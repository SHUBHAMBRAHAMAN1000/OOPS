{
  "nbformat": 4,
  "nbformat_minor": 0,
  "metadata": {
    "colab": {
      "provenance": []
    },
    "kernelspec": {
      "name": "python3",
      "display_name": "Python 3"
    },
    "language_info": {
      "name": "python"
    }
  },
  "cells": [
    {
      "cell_type": "markdown",
      "source": [
        "**Q.1 What is Object- Oriented Programming (oops)?**\n",
        "- To map real world senerios like inheritance, hiding, polymorphism, etc in programming.We started using object in code this is called object oriented programming.The OOPs Concepts includes : Class,Objects,Data Abstraction,Encapsulation,Inheritance,Polymorphism,Dynamic Binding,Message Passing.\n",
        "\n",
        "\n",
        "**Q.2 What is a class in OOPS?**\n",
        "- A class is a user-defined data type. It consists of data members and member functions, which can be accessed and used by creating an instance of that class. It represents the set of properties or methods that are common to all objects of one type. A class is like a blueprint for an object.\n",
        "\n",
        "  For Example: Consider the Class of Cars. There may be many cars with different names and brands but all of them will share some common properties like all of them will have 4 wheels, Speed Limit, Mileage range, etc. So here, Car is the class, and wheels, speed limits, mileage are their properties.\n",
        "\n",
        "**Q.3 What is object in OOPs?**\n",
        "- It is basic unit of Object oriented programming. Object is the properties of the class.When a class is defined, no memory is allocated but when it is instantiated (i.e. an object is created) memory is allocated. An object has an identity, state, and behavior. Each object contains data and code to manipulate the data. Objects can interact without having to know details of each other’s data or code, it is sufficient to know the type of message accepted and type of response returned by the objects.\n",
        "\n",
        "  For example “Dog” is a real-life Object, which has some characteristics like color, Breed, Bark, Sleep, and Eats.\n",
        "\n",
        "\n",
        "**Q.4 What is the difference between abstraction and encapsulation?**\n",
        "- Data abstraction is one of the most essential and important features of object-oriented programming. *Data abstraction refers to providing only essential information about the data to the outside world, hiding the background details or implementation.* Consider a real-life example of a man driving a car. The man only knows that pressing the accelerators will increase the speed of the car or applying brakes will stop the car, but he does not know about how on pressing the accelerator the speed is increasing, he does not know about the inner mechanism of the car or the implementation of the accelerator, brakes, etc in the car. This is what abstraction is.\n",
        "\n",
        " Encapsulation is defined as the wrapping up of data under a single unit. It is the mechanism that binds together code and the data it manipulates. In Encapsulation, the variables or data of a class are hidden from any other class and can be accessed only through any member function of their class in which they are declared. As in encapsulation, the data in a class is hidden from other classes, so it is also known as data-hiding.\n",
        "\n",
        " Consider a real-life example of encapsulation, in a company, there are different sections like the accounts section, finance section, sales section, etc. The finance section handles all the financial transactions and keeps records of all the data related to finance. Similarly, the sales section handles all the sales-related activities and keeps records of all the sales. Now there may arise a situation when for some reason an official from the finance section needs all the data about sales in a particular month. In this case, he is not allowed to directly access the data of the sales section. He will first have to contact some other officer in the sales section and then request him to give the particular data. This is what encapsulation is. Here the data of the sales section and the employees that can manipulate them are wrapped under a single name “sales section”.\n",
        "\n",
        "**Q.5 What is dunder method in Python?**\n",
        "- Python Magic methods are the methods *starting and ending with double underscores ‘__’.* They are defined by built-in classes in Python and commonly used for operator overloading. They are also called Dunder methods, Dunder here means “Double Under (Underscores)”.\n",
        "\n",
        "**Q.6 Explain the concept of inhertance in OOP?**\n",
        "- Inheritance is a fundamental concept in object-oriented programming (OOP) that allows a class (called a child or derived class) to inherit attributes and methods from another class (called a parent or base class). This promotes code reuse, modularity, and a hierarchical class structure. In this article, we’ll explore inheritance in Python.\n",
        "\n",
        " Syntax for Inheritance\n",
        "   class ParentClass:\n",
        "\n",
        "\n",
        "        # Parent class code here\n",
        "          pass\n",
        "       class ChildClass(ParentClass):\n",
        "       # Child class code here\n",
        "         pass\n",
        "\n",
        "-  Explanation of Python Inheritance Syntax\n",
        "  \n",
        "  Parent Class:\n",
        "This is the base class from which other classes inherit.\n",
        "It contains attributes and methods that the child class can reuse.\n",
        "\n",
        " Child Class:\n",
        "This is the derived class that inherits from the parent class.\n",
        "The syntax for inheritance is class ChildClass(ParentClass).\n",
        "The child class automatically gets all attributes and methods of the parent class unless overridden.\n",
        "\n",
        "\n",
        "**Q7.What is polymorphism in OOP?**\n",
        " - Polymorphism is a foundational concept in programming that allows entities like functions, methods or operators to behave differently based on the type of data they are handling. Derived from Greek, the term literally means “many forms”.Python’s dynamic typing and duck typing make it inherently polymorphic. Functions, operators and even built-in objects like loops exhibit polymorphic behavior.\n",
        "\n",
        "**Q5.How is encapsulation achieved in Python?**\n",
        " - Encapsulation in Python is implemented using access specifiers to control access to class members:\n",
        "\n",
        "\n",
        "  - Public Members: By default, attributes and methods are public and can be accessed from outside the class.\n",
        "\n",
        "  - Protected Members: Use a single underscore (_) prefix to indicate that an attribute or method is intended for internal use within the class and its subclasses.\n",
        "\n",
        "  -Private Members: Use double underscores (__) prefix to make an attribute or method private. This leads to name mangling, making it more challenging to access from outside the class.\n",
        "\n",
        "**Q.6 What is a constructor in Python?**\n",
        " -  Python, a constructor is a special method that is called automatically when an object is created from a class. Its main role is to initialize the object by setting up its attributes or state.\n",
        "\n",
        " The method _ _new_ _ is the constructor that creates a new instance of the class while _ _init_ _ is the initializer that sets up the instance’s attributes after creation. These methods work together to manage object creation and initialization.\n",
        "\n",
        "**Q.7 What are class and static methods in Python?**\n",
        "- The @classmethod decorator is a built-in function decorator that is an expression that gets evaluated after your function is defined. The result of that evaluation shadows your function definition. A class method receives the class as an implicit first argument, just like an instance method receives the instance\n",
        "\n",
        "  A **class method** is a method that is bound to the class and not the object of the class.\n",
        "They have the access to the state of the class as it takes a class parameter that points to the class and not the object instance.\n",
        "It can modify a class state that would apply across all the instances of the class. For example, it can modify a class variable that will be applicable to all the instances.\n",
        "\n",
        " A **static method** does not receive an implicit first argument. A static method is also a method that is bound to the class and not the object of the class. This method can’t access or modify the class state. It is present in a class because it makes sense for the method to be present in class.\n",
        "\n",
        " The **difference between the Class method and the static method** is:\n",
        "\n",
        " A class method takes cls as the first parameter while a static method needs no specific parameters.\n",
        "\n",
        " A class method can access or modify the class state while a static method can’t access or modify it.\n",
        "\n",
        " In general, static methods know nothing about the class state. They are utility-type methods that take some parameters and work upon those parameters. On the other hand class methods must have class as a parameter.\n",
        "\n",
        " We use @classmethod decorator in python to create a class method and we use @staticmethod decorator to create a static method in python.\n",
        "\n",
        " We generally use the class method to create factory methods. Factory methods return class objects ( similar to a constructor ) for different use cases.\n",
        "\n",
        " We generally use static methods to create utility functions.\n",
        "\n",
        "**Q.11 What is method overloading in Python?**\n",
        "- **Method Overloading**: Two or more methods have the same name but different numbers of parameters or different types of parameters, or both. These methods are called overloaded methods and this is called method overloading.\n",
        "\n",
        "**Q.12 What is method overriding in OOP?**\n",
        "- Method overriding is a fundamental concept in object-oriented programming (OOP) that allows a subclass to replace a method from its superclass with its own implementation. The method in the subclass has the same name, parameters, return type, and signature as the method in the superclass.\n",
        "\n",
        " Method overriding enables polymorphism, which means that a single method name can have different behaviors depending on the object's context. It also allows developers to create more flexible and dynamic code, and to customize method behavior\n",
        "\n",
        "**Q.13 What is a property decorator in Python?**\n",
        "\n",
        "- A decorator feature in Python wraps in a function, appends several functionalities to existing code and then returns it. Methods and functions are known to be callable as they can be called. Therefore, a decorator is also a callable that returns callable. This is also known as metaprogramming as at compile time a section of program alters another section of the program.\n",
        "\n",
        " @property decorator is a built-in decorator in Python which is helpful in defining the properties effortlessly without manually calling the inbuilt function property(). Which is used to return the property attributes of a class from the stated getter, setter and deleter as parameters.\n",
        "\n",
        "**Q.14 Why is polymorphism important in OOP?**\n",
        "- Polymorphism is an important feature of object-oriented programming (OOP) because it allows for code reusability, flexibility, and extensibility:\n",
        "\n",
        " **Code reusability**\n",
        "\n",
        " Polymorphism allows multiple classes to implement the same method in different ways, which can save time and speed up development.\n",
        "\n",
        " **Flexibility**\n",
        "\n",
        " Polymorphism allows programmers to perform a single action in various ways, and to redefine methods for derived classes.\n",
        "\n",
        " **Extensibility**\n",
        "\n",
        " Polymorphism allows developers to easily create new classes derived from existing classes, without modifying the existing code.\n",
        "\n",
        " **Readability**\n",
        "\n",
        " Polymorphism can improve code readability by allowing functions to share the same name but have different arguments.\n",
        "\n",
        " **Debugging**\n",
        "\n",
        " Polymorphism simplifies variable searches and execution, as well as code debugging.\n",
        "\n",
        "**Q.15 What is an abstract class in Python?**\n",
        "- In Python, an abstract class is a class that cannot be instantiated on its own and is designed to be a blueprint for other classes:\n",
        "\n",
        " **Purpose**\n",
        "\n",
        " Abstract classes define methods that must be implemented by subclasses, ensuring a consistent interface while still allowing the subclasses to provide specific implementations.\n",
        "\n",
        " **Benefits**\n",
        "\n",
        " Abstract classes prevent instantiation of the class itself and require children to use inherited abstract methods.\n",
        "\n",
        " **How to create**\n",
        "\n",
        " Python's abc (Abstract Base Classes) module provides the infrastructure for creating abstract classes.\n",
        "\n",
        " **How to define abstract methods**\n",
        "\n",
        " The @abstractmethod decorator is used to define abstract methods. For example, @abstractmethod def abstract_method(self): pass.\n",
        "\n",
        " **How to use**\n",
        "\n",
        " Any class inheriting from an abstract class must provide a concrete implementation for the abstract methods. For example, if an abstract class Shape defines an abstract method area, then derived classes (like Circle and Rectangle) must implement the area method according to their specific geometric shapes.\n",
        "\n",
        "**Q.16 What are the advantages of OOP?**\n",
        "- Object-Oriented Programming (OOP) has many advantages, including:\n",
        "\n",
        " **Modularity** : OOP allows developers to break down complex systems into smaller, more manageable objects. This makes it easier to troubleshoot and collaborate.\n",
        "\n",
        " **Reusability**:\n",
        "OOP allows developers to reuse code through inheritance, saving time and effort.\n",
        "\n",
        " **Flexibility**:\n",
        "OOP's polymorphism feature allows a single function to adapt to the class it's in. This makes it easier to scale and extend software systems.\n",
        "\n",
        " **Security**:\n",
        "OOP's encapsulation feature bundles data to protect it from unintended corruption.\n",
        "\n",
        " **Readability and maintainability**:\n",
        "OOP's clear structure makes it easier for developers to understand and modify existing code.\n",
        "\n",
        " **Wide adoption**:\n",
        "OOP is supported by many popular programming languages, frameworks, and libraries.\n",
        "\n",
        " **Ease of use**:\n",
        "OOP works well with IDEs, and developers have access to a wealth of resources, tools, and community support.\n",
        "\n",
        " **Efficiency**:\n",
        "OOP is a top choice for developers who want to keep their code efficient and easy to work with.\n",
        "\n",
        "\n",
        "**Q.17 What is the difference between a class variable and an instance variable?**\n",
        "- object-oriented programming, the main difference between a class variable and an instance variable is that a class variable is shared among all instances of a class, while an instance variable is unique to each instance:\n",
        "\n",
        " **Class variable**\n",
        ": A single copy of a class variable is shared among all instances of a class, regardless of how many instances there are. Class variables are also known as static member variables.\n",
        "\n",
        " **Instance variable**:\n",
        " Each instance of a class has its own independent copy of an instance variable. Instance variables are created when an object is instantiated.\n",
        "\n",
        "**Q.18 What is multiple inheritance in Python ?**\n",
        "- **Multiple Inheritance** :\n",
        "When a class is derived from more than one base class it is called multiple Inheritance. The derived class inherits all the features of the base case.\n",
        "\n",
        "**Q.19Explain the purpose of ‘’__str__’ and ‘__repr__’ ‘ methods in Python?**\n",
        "- In Python, the _ _str_ _ and _ _repr_ _ methods are used to create string representations of objects:\n",
        "\n",
        " **_ _ _str_ _ _**:\n",
        "\n",
        " Returns a human-readable, informal string representation of an object. This method is used for printing objects for users. The __str__ method is called by the built-in print(), str(), and format() functions.\n",
        "\n",
        " ** _ _ _repr_ _ _**:\n",
        "\n",
        " Returns a more information-rich, official string representation of an object. This method is used for debugging, logging, and object inspection. The __repr__ method is called by the built-in repr() function\n",
        "\n",
        "**Q.20 What is the significance of the ‘super()’ function in Python?**\n",
        "\n",
        "- The super() function in Python is a built-in function that allows access to methods and properties of a parent or superclass from a child or subclass:\n",
        "\n",
        " Inheritance :\n",
        "super() is useful when working with inheritance in object-oriented programming. It allows a subclass to inherit behavior and attributes from its parent class.\n",
        "\n",
        " Flexibility :\n",
        "super() makes code more flexible and easier to maintain by allowing you to call a method from the parent class without explicitly naming the parent class.\n",
        "\n",
        " Code duplication :\n",
        "super() can help avoid code duplication. For example, you can use super() to execute the __init__ method of a parent class as if it were a method defined in a child class.\n",
        "\n",
        " Complex class hierarchies :\n",
        "super() is necessary for more complex class hierarchies that use dependency injection and multiple inheritance.\n",
        "\n",
        "**Q.21 What is the significance of the __del__ method in Python?**\n",
        "- The del() method in Python, also known as a destructor method, is called when an object is about to be destroyed. It's used to perform cleanup, release resources, or other finalization actions.\n",
        "\n",
        " Here are some things to know about the del() method:\n",
        "It's called after an object's garbage collection occurs, which happens when all references to the item have been destroyed.\n",
        "\n",
        " It can also be called when the Python interpreter shuts down.\n",
        "An example of the del() method in action is:\n",
        "Class Student\n",
        "\n",
        " Initializing: def init(self): print('Student table created.')\n",
        "\n",
        " Deleting: def del(self): print('Destructor called, Student table deleted.')\n",
        "\n",
        " Code: Stud1 = Student() del Stud1\n",
        "\n",
        " Output: Student table created. Destructor called, Student table deleted.\n",
        "\n",
        "**Q.22 What is the difference between @staticmethod and @classmethod in Python?**\n",
        "- The main difference between @classmethod and @staticmethod in Python is that @classmethod methods can access and modify the class state, while @staticmethod methods cannot:\n",
        "\n",
        " **Parameters**\n",
        "\n",
        "  @classmethod methods take the class as the first argument, while @staticmethod methods do not require any specific parameters.\n",
        "\n",
        " **Class binding**\n",
        " @classmethod methods are bound to the class, while @staticmethod methods are not bound to either the class or an instance of the class.\n",
        "\n",
        " **Inheritance**\n",
        " @classmethod methods can be overridden in subclasses, while @staticmethod methods cannot.\n",
        "\n",
        " **Access to class attributes**\n",
        "\n",
        " @classmethod methods can access and manipulate class attributes, while @staticmethod methods cannot.\n",
        " Here are some other differences between @classmethod and @staticmethod methods:\n",
        "\n",
        " **Class state**\n",
        " @classmethod methods can access or modify the class state, while @staticmethod methods are typically unaware of the class state.\n",
        "\n",
        " **Calling**\n",
        "\n",
        " @classmethod methods are typically called on the class itself, but can also be called on an instance of the class. @staticmethod methods can be called on the class or on an instance of the class.  \n",
        "\n",
        "**Q.23 How does polymorphism work in Python with inheritance?**\n",
        "- In Python, polymorphism with inheritance works by allowing a child class to have a method with the same name as a parent class method, and then redefining that method in the child class. This process is called method overriding.\n",
        "\n",
        "**Q.24 What is method chaining in Python OOP?**\n",
        "- Method chaining in Python is a technique that allows you to call multiple methods on an object in a single line of code:\n",
        "\n",
        " **How it works**: Each method call returns the object, or a modified version of it, which is then used as the context for the next method call. This allows you to perform a sequence of operations on an object without needing to store intermediate results in variables.\n",
        "\n",
        " **Benefits**: Method chaining can make your code more concise, readable, and efficient. It can be especially useful when working with objects that require multiple transformations or operations.\n",
        "\n",
        "**Q.25 What is the purpose of the __call__ method in Python?**\n",
        "- The purpose of the __call__ method in Python is to create callable objects, which are objects that can be called like functions:\n",
        "\n",
        " **What it does** :  \n",
        " The __call__ method allows programmers to write classes where instances behave like functions. This means that instances can be called like functions.\n",
        "\n",
        " **How to use it** :\n",
        " To make a class's instances callable, define a __call__ method in the class. For example, in the class Demo, the __call__ method could be defined as def __call__(self): print(\"Hello from call.\").\n",
        "\n",
        " **What it's called**:\n",
        " The __call__ method is a built-in method in Python, also known as a dunder or magic method. Dunder methods have two prefixes and suffix underscores in the method name.\n",
        "\n",
        " **When to use it**:\n",
        "Most Python classes don't implement the __call__ method. Custom classes only have it if the programmer needs to use their instances as functions.\n",
        "\n"
      ],
      "metadata": {
        "id": "r0numo_l-N1v"
      }
    },
    {
      "cell_type": "markdown",
      "source": [
        "# PRATICALS"
      ],
      "metadata": {
        "id": "sIvbjGcWm1hl"
      }
    },
    {
      "cell_type": "code",
      "source": [
        "# 1. Create a parent class Animal with a method speak() that prints a generic message.\n",
        "# Create a child class Dog that overrides the speak() method to print \"Bark!\".\n",
        "\n",
        "class Animal:\n",
        "    def speak(self):\n",
        "        print(\"Animal speaks\")\n",
        "\n",
        "class Dog(Animal):\n",
        "    def speak(self):\n",
        "        print(\"Bark!\")\n",
        "\n",
        "# Test\n",
        "dog = Dog()\n",
        "dog.speak()  # Output: Bark!\n"
      ],
      "metadata": {
        "colab": {
          "base_uri": "https://localhost:8080/"
        },
        "id": "9AIc5yFYoUn9",
        "outputId": "f677998f-98f8-4000-bd9c-35d51b4f6970"
      },
      "execution_count": 2,
      "outputs": [
        {
          "output_type": "stream",
          "name": "stdout",
          "text": [
            "Bark!\n"
          ]
        }
      ]
    },
    {
      "cell_type": "code",
      "source": [
        "# 2. Write a program to create an abstract class Shape with a method area().\n",
        "# Derive classes Circle and Rectangle from it and implement the area() method in both.\n",
        "\n",
        "from abc import ABC, abstractmethod\n",
        "import math\n",
        "\n",
        "class Shape(ABC):\n",
        "    @abstractmethod\n",
        "    def area(self):\n",
        "        pass\n",
        "\n",
        "class Circle(Shape):\n",
        "    def __init__(self, radius):\n",
        "        self.radius = radius\n",
        "\n",
        "    def area(self):\n",
        "        return math.pi * self.radius ** 2\n",
        "\n",
        "class Rectangle(Shape):\n",
        "    def __init__(self, length, width):\n",
        "        self.length = length\n",
        "        self.width = width\n",
        "\n",
        "    def area(self):\n",
        "        return self.length * self.width\n",
        "\n",
        "# Test\n",
        "circle = Circle(5)\n",
        "print(circle.area())  # Output: 78.53981633974483\n",
        "\n",
        "rectangle = Rectangle(4, 6)\n",
        "print(rectangle.area())  # Output: 24"
      ],
      "metadata": {
        "colab": {
          "base_uri": "https://localhost:8080/"
        },
        "id": "P8b0vtwjobH-",
        "outputId": "5bb94d85-ab6c-4f94-c2d8-23148bda7c6f"
      },
      "execution_count": 3,
      "outputs": [
        {
          "output_type": "stream",
          "name": "stdout",
          "text": [
            "78.53981633974483\n",
            "24\n"
          ]
        }
      ]
    },
    {
      "cell_type": "code",
      "source": [
        "# 3. Implement a multi-level inheritance scenario where a class Vehicle has an attribute type.\n",
        "# Derive a class Car and further derive a class ElectricCar that adds a battery attribute.\n",
        "\n",
        "class Vehicle:\n",
        "    def __init__(self, type):\n",
        "        self.type = type\n",
        "\n",
        "class Car(Vehicle):\n",
        "    def __init__(self, type, model):\n",
        "        super().__init__(type)\n",
        "        self.model = model\n",
        "\n",
        "class ElectricCar(Car):\n",
        "    def __init__(self, type, model, battery_capacity):\n",
        "        super().__init__(type, model)\n",
        "        self.battery_capacity = battery_capacity\n",
        "\n",
        "# Test\n",
        "electric_car = ElectricCar(\"Electric\", \"Tesla\", \"100 kWh\")\n",
        "print(electric_car.type)  # Output: Electric\n",
        "print(electric_car.model)  # Output: Tesla\n",
        "print(electric_car.battery_capacity)  # Output: 100 kWh\n",
        "\n"
      ],
      "metadata": {
        "colab": {
          "base_uri": "https://localhost:8080/"
        },
        "id": "SD0foHS5p5mG",
        "outputId": "6a0d5c5b-ef89-44c0-f3a1-e0a383f5bd89"
      },
      "execution_count": 4,
      "outputs": [
        {
          "output_type": "stream",
          "name": "stdout",
          "text": [
            "Electric\n",
            "Tesla\n",
            "100 kWh\n"
          ]
        }
      ]
    },
    {
      "cell_type": "code",
      "source": [
        "# 4. Implement a multi-level inheritance scenario where a class Vehicle has an attribute type.\n",
        "# Derive a class Car and further derive a class ElectricCar that adds a battery attribute.\n",
        "\n",
        "class Vehicle:\n",
        "    def __init__(self, type):\n",
        "        self.type = type\n",
        "\n",
        "class Car(Vehicle):\n",
        "    def __init__(self, type, model):\n",
        "        super().__init__(type)\n",
        "        self.model = model\n",
        "\n",
        "class ElectricCar(Car):\n",
        "    def __init__(self, type, model, battery_capacity):\n",
        "        super().__init__(type, model)\n",
        "        self.battery_capacity = battery_capacity\n",
        "\n",
        "# Test\n",
        "electric_car = ElectricCar(\"Electric\", \"Tesla\", \"100 kWh\")\n",
        "print(electric_car.type)  # Output: Electric\n",
        "print(electric_car.model)  # Output: Tesla\n",
        "print(electric_car.battery_capacity)  # Output: 100 kWh\n"
      ],
      "metadata": {
        "id": "CRREhLmSqAQq"
      },
      "execution_count": null,
      "outputs": []
    },
    {
      "cell_type": "code",
      "source": [
        "# 5. Write a program to demonstrate encapsulation by creating a class BankAccount with private attributes\n",
        "# balance and methods to deposit, withdraw, and check balance.\n",
        "\n",
        "class BankAccount:\n",
        "    def __init__(self, balance=0):\n",
        "        self.__balance = balance\n",
        "\n",
        "    def deposit(self, amount):\n",
        "        if amount > 0:\n",
        "            self.__balance += amount\n",
        "        else:\n",
        "            print(\"Deposit amount must be positive.\")\n",
        "\n",
        "    def withdraw(self, amount):\n",
        "        if amount > self.__balance:\n",
        "            print(\"Insufficient balance!\")\n",
        "        elif amount > 0:\n",
        "            self.__balance -= amount\n",
        "        else:\n",
        "            print(\"Withdrawal amount must be positive.\")\n",
        "\n",
        "    def check_balance(self):\n",
        "        return self.__balance\n",
        "\n",
        "# Test\n",
        "account = BankAccount(500)\n",
        "account.deposit(200)\n",
        "account.withdraw(100)\n",
        "print(account.check_balance())  # Output: 600\n"
      ],
      "metadata": {
        "colab": {
          "base_uri": "https://localhost:8080/"
        },
        "id": "p_ddhqLJqCe9",
        "outputId": "05f711fb-b5e1-4b25-dd2a-df3614eecfe5"
      },
      "execution_count": 5,
      "outputs": [
        {
          "output_type": "stream",
          "name": "stdout",
          "text": [
            "600\n"
          ]
        }
      ]
    },
    {
      "cell_type": "code",
      "source": [
        "# 6. Demonstrate runtime polymorphism using a method play() in a base class Instrument.\n",
        "# Derive classes Guitar and Piano that implement their own version of play().\n",
        "\n",
        "class Instrument:\n",
        "    def play(self):\n",
        "        print(\"Playing an instrument\")\n",
        "\n",
        "class Guitar(Instrument):\n",
        "    def play(self):\n",
        "        print(\"Strumming the guitar\")\n",
        "\n",
        "class Piano(Instrument):\n",
        "    def play(self):\n",
        "        print(\"Playing the piano\")\n",
        "\n",
        "# Test\n",
        "guitar = Guitar()\n",
        "guitar.play()  # Output: Strumming the guitar\n",
        "\n",
        "piano = Piano()\n",
        "piano.play()  # Output: Playing the piano"
      ],
      "metadata": {
        "colab": {
          "base_uri": "https://localhost:8080/"
        },
        "id": "g6Ll3NKTqpIe",
        "outputId": "ebb951ea-e19d-4885-dab1-9afddb0a9b5b"
      },
      "execution_count": 6,
      "outputs": [
        {
          "output_type": "stream",
          "name": "stdout",
          "text": [
            "Strumming the guitar\n",
            "Playing the piano\n"
          ]
        }
      ]
    },
    {
      "cell_type": "code",
      "source": [
        "# 7. Create a class MathOperations with a class method add_numbers() to add two numbers and a static\n",
        "# method subtract_numbers() to subtract two numbers.\n",
        "\n",
        "class MathOperations:\n",
        "    @classmethod\n",
        "    def add_numbers(cls, a, b):\n",
        "        return a + b\n",
        "\n",
        "    @staticmethod\n",
        "    def subtract_numbers(a, b):\n",
        "        return a - b\n",
        "\n",
        "# Test\n",
        "print(MathOperations.add_numbers(5, 3))  # Output: 8\n",
        "print(MathOperations.subtract_numbers(5, 3))  # Output: 2\n"
      ],
      "metadata": {
        "colab": {
          "base_uri": "https://localhost:8080/"
        },
        "id": "IRjQnQs-q1HM",
        "outputId": "9284ad5f-10a6-4009-b389-0bc2646d966a"
      },
      "execution_count": 7,
      "outputs": [
        {
          "output_type": "stream",
          "name": "stdout",
          "text": [
            "8\n",
            "2\n"
          ]
        }
      ]
    },
    {
      "cell_type": "code",
      "source": [
        "# 8. Implement a class Person with a class method to count the total number of persons created.\n",
        "\n",
        "class Person:\n",
        "    count = 0\n",
        "\n",
        "    def __init__(self, name, age):\n",
        "        self.name = name\n",
        "        self.age = age\n",
        "        Person.count += 1\n",
        "\n",
        "    @classmethod\n",
        "    def get_count(cls):\n",
        "        return cls.count\n",
        "\n",
        "# Test\n",
        "person1 = Person(\"Alice\", 30)\n",
        "person2 = Person(\"Bob\", 25)\n",
        "print(Person.get_count())  # Output: 2"
      ],
      "metadata": {
        "colab": {
          "base_uri": "https://localhost:8080/"
        },
        "id": "ccZd_Hi9rN7M",
        "outputId": "7bc717c8-bf33-4b39-8c83-6362d2b8eef0"
      },
      "execution_count": 9,
      "outputs": [
        {
          "output_type": "stream",
          "name": "stdout",
          "text": [
            "2\n"
          ]
        }
      ]
    },
    {
      "cell_type": "code",
      "source": [
        "# 9. Write a class Fraction with attributes numerator and denominator.\n",
        "# Override the str method to display the fraction as \"numerator/denominator\".\n",
        "\n",
        "class Fraction:\n",
        "    def __init__(self, numerator, denominator):\n",
        "        self.numerator = numerator\n",
        "        self.denominator = denominator\n",
        "\n",
        "    def __str__(self):\n",
        "        return f\"{self.numerator}/{self.denominator}\"\n",
        "\n",
        "# Test\n",
        "fraction = Fraction(3, 4)\n",
        "print(fraction)  # Output: 3/4\n"
      ],
      "metadata": {
        "colab": {
          "base_uri": "https://localhost:8080/"
        },
        "id": "2_JG-2vpraOc",
        "outputId": "a7f45744-d53a-4920-9dc2-414cfec422dd"
      },
      "execution_count": 8,
      "outputs": [
        {
          "output_type": "stream",
          "name": "stdout",
          "text": [
            "3/4\n"
          ]
        }
      ]
    },
    {
      "cell_type": "code",
      "source": [
        "# 10. Demonstrate operator overloading by creating a class Vector and overriding the add method to add two vectors.\n",
        "\n",
        "class Vector:\n",
        "    def __init__(self, x, y):\n",
        "        self.x = x\n",
        "        self.y = y\n",
        "\n",
        "    def __add__(self, other):\n",
        "        return Vector(self.x + other.x, self.y + other.y)\n",
        "\n",
        "    def __str__(self):\n",
        "        return f\"({self.x}, {self.y})\"\n",
        "\n",
        "# Test\n",
        "vector1 = Vector(2, 3)\n",
        "vector2 = Vector(4, 5)\n",
        "result = vector1 + vector2\n",
        "print(result)  # Output: (6, 8)\n"
      ],
      "metadata": {
        "colab": {
          "base_uri": "https://localhost:8080/"
        },
        "id": "dPbY7G3DreRR",
        "outputId": "3f549acc-32ed-453d-dfa2-37e07b36575e"
      },
      "execution_count": 10,
      "outputs": [
        {
          "output_type": "stream",
          "name": "stdout",
          "text": [
            "(6, 8)\n"
          ]
        }
      ]
    },
    {
      "cell_type": "code",
      "source": [
        "# 11. Create a class Person with attributes name and age.\n",
        "# Add a method greet() that prints \"Hello, my name is {name} and I am {age} years old.\"\n",
        "\n",
        "class Person:\n",
        "    def __init__(self, name, age):\n",
        "        self.name = name\n",
        "        self.age = age\n",
        "\n",
        "    def greet(self):\n",
        "        print(f\"Hello, my name is {self.name} and I am {self.age} years old.\")\n",
        "\n",
        "# Test\n",
        "person = Person(\"John\", 40)\n",
        "person.greet()  # Output: Hello, my name is John and I am 40 years old.\n"
      ],
      "metadata": {
        "colab": {
          "base_uri": "https://localhost:8080/"
        },
        "id": "yWEpNCtqr0SN",
        "outputId": "e73936d4-5836-4b55-c663-d497fb38bd8c"
      },
      "execution_count": 11,
      "outputs": [
        {
          "output_type": "stream",
          "name": "stdout",
          "text": [
            "Hello, my name is John and I am 40 years old.\n"
          ]
        }
      ]
    },
    {
      "cell_type": "code",
      "source": [
        "# 12. Implement a class Student with attributes name and grades.\n",
        "# Create a method average_grade() to compute the average of the grades.\n",
        "\n",
        "class Student:\n",
        "    def __init__(self, name, grades):\n",
        "        self.name = name\n",
        "        self.grades = grades\n",
        "\n",
        "    def average_grade(self):\n",
        "        return sum(self.grades) / len(self.grades)\n",
        "\n",
        "# Test\n",
        "student = Student(\"David\", [85, 90, 78, 92])\n",
        "print(student.average_grade())  # Output: 86.25\n"
      ],
      "metadata": {
        "colab": {
          "base_uri": "https://localhost:8080/"
        },
        "id": "svdvWRotr7pD",
        "outputId": "91968c19-119f-4e2a-90a5-d5e66b76588a"
      },
      "execution_count": 12,
      "outputs": [
        {
          "output_type": "stream",
          "name": "stdout",
          "text": [
            "86.25\n"
          ]
        }
      ]
    },
    {
      "cell_type": "code",
      "source": [
        "# 13. Create a class Rectangle with methods set_dimensions() to set the dimensions and area() to calculate the area.\n",
        "\n",
        "class Rectangle:\n",
        "    def __init__(self):\n",
        "        self.length = 0\n",
        "        self.width = 0\n",
        "\n",
        "    def set_dimensions(self, length, width):\n",
        "        self.length = length\n",
        "        self.width = width\n",
        "\n",
        "    def area(self):\n",
        "        return self.length * self.width\n",
        "\n",
        "# Test\n",
        "rectangle = Rectangle()\n",
        "rectangle.set_dimensions(5, 3)\n",
        "print(f\"Area of rectangle: {rectangle.area()}\")  # Output: Area of rectangle: 15\n",
        "\n",
        "\n"
      ],
      "metadata": {
        "colab": {
          "base_uri": "https://localhost:8080/"
        },
        "id": "6jxqCgA1t_Tg",
        "outputId": "5951047f-c77c-48ef-dcb0-9f00913f7de2"
      },
      "execution_count": 13,
      "outputs": [
        {
          "output_type": "stream",
          "name": "stdout",
          "text": [
            "Area of rectangle: 15\n"
          ]
        }
      ]
    },
    {
      "cell_type": "code",
      "source": [
        "# 14. Create a class Employee with a method calculate_salary() that computes the salary based on hours worked\n",
        "# and hourly rate. Create a derived class Manager that adds a bonus to the salary.\n",
        "\n",
        "class Employee:\n",
        "    def __init__(self, hours_worked, hourly_rate):\n",
        "        self.hours_worked = hours_worked\n",
        "        self.hourly_rate = hourly_rate\n",
        "\n",
        "    def calculate_salary(self):\n",
        "        return self.hours_worked * self.hourly_rate\n",
        "\n",
        "class Manager(Employee):\n",
        "    def __init__(self, hours_worked, hourly_rate, bonus):\n",
        "        super().__init__(hours_worked, hourly_rate)\n",
        "        self.bonus = bonus\n",
        "\n",
        "    def calculate_salary(self):\n",
        "        base_salary = super().calculate_salary()\n",
        "        return base_salary + self.bonus\n",
        "\n",
        "# Test\n",
        "employee = Employee(40, 20)\n",
        "print(f\"Employee salary: {employee.calculate_salary()}\")  # Output: Employee salary: 800\n",
        "\n",
        "manager = Manager(40, 30, 500)\n",
        "print(f\"Manager salary: {manager.calculate_salary()}\")  # Output: Manager salary: 1700\n"
      ],
      "metadata": {
        "colab": {
          "base_uri": "https://localhost:8080/"
        },
        "id": "tQdV5Oj0uq2z",
        "outputId": "90f0cbfe-33b6-46a6-cd00-ff97d853e74b"
      },
      "execution_count": 14,
      "outputs": [
        {
          "output_type": "stream",
          "name": "stdout",
          "text": [
            "Employee salary: 800\n",
            "Manager salary: 1700\n"
          ]
        }
      ]
    },
    {
      "cell_type": "code",
      "source": [
        "# 15. Create a class Product with attributes name, price, and quantity. Implement a method total_price()\n",
        "# that calculates the total price of the product.\n",
        "\n",
        "class Product:\n",
        "    def __init__(self, name, price, quantity):\n",
        "        self.name = name\n",
        "        self.price = price\n",
        "        self.quantity = quantity\n",
        "\n",
        "    def total_price(self):\n",
        "        return self.price * self.quantity\n",
        "\n",
        "# Test\n",
        "product = Product(\"Laptop\", 1000, 3)\n",
        "print(f\"Total price: {product.total_price()}\")  # Output: Total price: 3000"
      ],
      "metadata": {
        "colab": {
          "base_uri": "https://localhost:8080/"
        },
        "id": "FtDwTKYpuurb",
        "outputId": "3411f1ae-200f-4684-8bca-70dfcc8811ea"
      },
      "execution_count": 15,
      "outputs": [
        {
          "output_type": "stream",
          "name": "stdout",
          "text": [
            "Total price: 3000\n"
          ]
        }
      ]
    },
    {
      "cell_type": "code",
      "source": [
        "# 16. Create a class Animal with an abstract method sound(). Create two derived classes Cow and Sheep that\n",
        "# implement the sound() method.\n",
        "\n",
        "from abc import ABC, abstractmethod\n",
        "\n",
        "class Animal(ABC):\n",
        "    @abstractmethod\n",
        "    def sound(self):\n",
        "        pass\n",
        "\n",
        "class Cow(Animal):\n",
        "    def sound(self):\n",
        "        print(\"Moo\")\n",
        "\n",
        "class Sheep(Animal):\n",
        "    def sound(self):\n",
        "        print(\"Baa\")\n",
        "\n",
        "# Test\n",
        "cow = Cow()\n",
        "cow.sound()  # Output: Moo\n",
        "\n",
        "sheep = Sheep()\n",
        "sheep.sound()  # Output: Baa\n"
      ],
      "metadata": {
        "colab": {
          "base_uri": "https://localhost:8080/"
        },
        "id": "EQLu75vOu9gD",
        "outputId": "0517a415-ba7e-4f9e-fd56-d638893805e6"
      },
      "execution_count": 16,
      "outputs": [
        {
          "output_type": "stream",
          "name": "stdout",
          "text": [
            "Moo\n",
            "Baa\n"
          ]
        }
      ]
    },
    {
      "cell_type": "code",
      "source": [
        "# 17. Create a class Book with attributes title, author, and year_published.\n",
        "# Add a method get_book_info() that returns a formatted string with the book's details.\n",
        "\n",
        "class Book:\n",
        "    def __init__(self, title, author, year_published):\n",
        "        self.title = title\n",
        "        self.author = author\n",
        "        self.year_published = year_published\n",
        "\n",
        "    def get_book_info(self):\n",
        "        return f\"Title: {self.title}, Author: {self.author}, Year Published: {self.year_published}\"\n",
        "\n",
        "# Test\n",
        "book = Book(\"The Great Gatsby\", \"F. Scott Fitzgerald\", 1925)\n",
        "print(book.get_book_info())  # Output: Title: The Great Gatsby, Author: F. Scott Fitzgerald, Year Published: 1925\n"
      ],
      "metadata": {
        "colab": {
          "base_uri": "https://localhost:8080/"
        },
        "id": "CTwcX_I7vAG0",
        "outputId": "795a18f5-cacc-42d5-f939-9a5848cd6d20"
      },
      "execution_count": 17,
      "outputs": [
        {
          "output_type": "stream",
          "name": "stdout",
          "text": [
            "Title: The Great Gatsby, Author: F. Scott Fitzgerald, Year Published: 1925\n"
          ]
        }
      ]
    },
    {
      "cell_type": "code",
      "source": [
        "# 18. Create a class House with attributes address and price. Create a derived class Mansion that adds an\n",
        "# attribute number_of_rooms.\n",
        "\n",
        "class House:\n",
        "    def __init__(self, address, price):\n",
        "        self.address = address\n",
        "        self.price = price\n",
        "\n",
        "class Mansion(House):\n",
        "    def __init__(self, address, price, number_of_rooms):\n",
        "        super().__init__(address, price)\n",
        "        self.number_of_rooms = number_of_rooms\n",
        "\n",
        "# Test\n",
        "mansion = Mansion(\"123 Luxury St\", 5000000, 15)\n",
        "print(f\"Address: {mansion.address}, Price: {mansion.price}, Number of Rooms: {mansion.number_of_rooms}\")\n",
        "# Output: Address: 123 Luxury St, Price: 5000000, Number of Rooms: 15"
      ],
      "metadata": {
        "colab": {
          "base_uri": "https://localhost:8080/"
        },
        "id": "YW3OTX3GvYdl",
        "outputId": "17feede8-888b-4164-e960-6c028c17e6b6"
      },
      "execution_count": 18,
      "outputs": [
        {
          "output_type": "stream",
          "name": "stdout",
          "text": [
            "Address: 123 Luxury St, Price: 5000000, Number of Rooms: 15\n"
          ]
        }
      ]
    }
  ]
}